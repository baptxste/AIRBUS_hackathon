{
 "cells": [
  {
   "cell_type": "markdown",
   "id": "d271c0b8",
   "metadata": {},
   "source": [
    "# Hackathon : Reinforcement Learning for Drone Navigation"
   ]
  },
  {
   "cell_type": "markdown",
   "id": "0b59b4fd",
   "metadata": {},
   "source": [
    "- Team name:\n",
    "- Team members names:"
   ]
  },
  {
   "cell_type": "markdown",
   "id": "fb5f6162-b5c3-462f-8c79-1fe99d16f175",
   "metadata": {},
   "source": [
    "## 0. Prerequisites"
   ]
  },
  {
   "cell_type": "code",
   "execution_count": 1,
   "id": "68618ae7-0858-4006-be28-cd1451979861",
   "metadata": {
    "scrolled": true
   },
   "outputs": [],
   "source": [
    "# %pip install -r requirements.txt"
   ]
  },
  {
   "cell_type": "code",
   "execution_count": 2,
   "id": "0dbd81fc-3ed3-4ecc-92da-ea4a86bb6261",
   "metadata": {},
   "outputs": [],
   "source": [
    "%load_ext autoreload\n",
    "%autoreload 2\n",
    "\n",
    "import env\n",
    "import agent\n",
    "import reward\n",
    "import simulate"
   ]
  },
  {
   "cell_type": "markdown",
   "id": "aca2c8db-cf8d-46d0-b8bb-ef4dba40009f",
   "metadata": {},
   "source": [
    "## 1. Training"
   ]
  },
  {
   "cell_type": "code",
   "execution_count": 19,
   "id": "aa34aa4c-0eab-4db9-9b6b-3fe1f714190c",
   "metadata": {
    "scrolled": true
   },
   "outputs": [
    {
     "name": "stdout",
     "output_type": "stream",
     "text": [
      "Warning: Could only place 0 dynamic obstacles instead of 3 due to space constraints\n",
      "Episode 2, Step 50000, Reward: -5050000.00, Evacuated: 0, Deactivated: 1Warning: Could only place 0 dynamic obstacles instead of 3 due to space constraints\n",
      "Episode 3, Step 7, Reward: -509.00, Evacuated: 0, Deactivated: 2Warning: Could only place 0 dynamic obstacles instead of 3 due to space constraints\n",
      "Episode 4, Step 14, Reward: -292.00, Evacuated: 0, Deactivated: 2Warning: Could only place 0 dynamic obstacles instead of 3 due to space constraints\n",
      "Episode 5, Step 50000, Reward: -5049604.00, Evacuated: 0, Deactivated: 1Warning: Could only place 0 dynamic obstacles instead of 3 due to space constraints\n",
      "Episode 6, Step 50000, Reward: -5049802.00, Evacuated: 0, Deactivated: 1Warning: Could only place 0 dynamic obstacles instead of 3 due to space constraints\n",
      "Episode 7, Step 3, Reward: -303.00, Evacuated: 0, Deactivated: 2Warning: Could only place 0 dynamic obstacles instead of 3 due to space constraints\n",
      "Episode 8, Step 19, Reward: -1710.00, Evacuated: 0, Deactivated: 2Warning: Could only place 0 dynamic obstacles instead of 3 due to space constraints\n",
      "Episode 9, Step 33, Reward: 99913.00, Evacuated: 1, Deactivated: 1Warning: Could only place 0 dynamic obstacles instead of 3 due to space constraints\n",
      "Episode 10, Step 25, Reward: -2184.00, Evacuated: 0, Deactivated: 2Warning: Could only place 0 dynamic obstacles instead of 3 due to space constraints\n",
      "Episode 11, Step 37, Reward: -1878.00, Evacuated: 0, Deactivated: 2Warning: Could only place 0 dynamic obstacles instead of 3 due to space constraints\n",
      "Episode 12, Step 53, Reward: -5177.00, Evacuated: 0, Deactivated: 2Warning: Could only place 0 dynamic obstacles instead of 3 due to space constraints\n",
      "Episode 13, Step 50000, Reward: 50115.00, Evacuated: 1, Deactivated: 0Warning: Could only place 0 dynamic obstacles instead of 3 due to space constraints\n",
      "Episode 14, Step 50000, Reward: -5046909.00, Evacuated: 0, Deactivated: 1Warning: Could only place 0 dynamic obstacles instead of 3 due to space constraints\n",
      "Episode 15, Step 50000, Reward: -5049197.00, Evacuated: 0, Deactivated: 1Warning: Could only place 0 dynamic obstacles instead of 3 due to space constraints\n",
      "Episode 16, Step 50000, Reward: -5048878.00, Evacuated: 0, Deactivated: 1Warning: Could only place 0 dynamic obstacles instead of 3 due to space constraints\n",
      "Episode 17, Step 50000, Reward: -5048691.00, Evacuated: 0, Deactivated: 1Warning: Could only place 0 dynamic obstacles instead of 3 due to space constraints\n",
      "Episode 18, Step 50000, Reward: -5047734.00, Evacuated: 0, Deactivated: 1Warning: Could only place 0 dynamic obstacles instead of 3 due to space constraints\n",
      "Episode 19, Step 50000, Reward: -5049494.00, Evacuated: 0, Deactivated: 1Warning: Could only place 0 dynamic obstacles instead of 3 due to space constraints\n",
      "Episode 20, Step 28, Reward: -2399.00, Evacuated: 0, Deactivated: 2Warning: Could only place 0 dynamic obstacles instead of 3 due to space constraints\n",
      "Episode 21, Step 50000, Reward: -5048339.00, Evacuated: 0, Deactivated: 1Warning: Could only place 0 dynamic obstacles instead of 3 due to space constraints\n",
      "Episode 22, Step 12, Reward: -1113.00, Evacuated: 0, Deactivated: 2Warning: Could only place 0 dynamic obstacles instead of 3 due to space constraints\n",
      "Episode 23, Step 50000, Reward: -5048977.00, Evacuated: 0, Deactivated: 1Warning: Could only place 0 dynamic obstacles instead of 3 due to space constraints\n",
      "Episode 24, Step 6, Reward: -507.00, Evacuated: 0, Deactivated: 2Warning: Could only place 0 dynamic obstacles instead of 3 due to space constraints\n",
      "Episode 25, Step 4, Reward: -305.00, Evacuated: 0, Deactivated: 2Warning: Could only place 0 dynamic obstacles instead of 3 due to space constraints\n",
      "Episode 26, Step 50000, Reward: -5049406.00, Evacuated: 0, Deactivated: 1Warning: Could only place 0 dynamic obstacles instead of 3 due to space constraints\n",
      "Episode 27, Step 50000, Reward: -5048691.00, Evacuated: 0, Deactivated: 1Warning: Could only place 0 dynamic obstacles instead of 3 due to space constraints\n",
      "Episode 28, Step 62, Reward: -3413.00, Evacuated: 0, Deactivated: 2Warning: Could only place 0 dynamic obstacles instead of 3 due to space constraints\n",
      "Episode 29, Step 16, Reward: -1605.00, Evacuated: 0, Deactivated: 2Warning: Could only place 0 dynamic obstacles instead of 3 due to space constraints\n",
      "Episode 30, Step 2, Reward: -301.00, Evacuated: 0, Deactivated: 2Warning: Could only place 0 dynamic obstacles instead of 3 due to space constraints\n",
      "Episode 31, Step 21, Reward: -383.00, Evacuated: 0, Deactivated: 2Warning: Could only place 0 dynamic obstacles instead of 3 due to space constraints\n",
      "Episode 32, Step 50000, Reward: -5049098.00, Evacuated: 0, Deactivated: 1Warning: Could only place 0 dynamic obstacles instead of 3 due to space constraints\n",
      "Episode 33, Step 15, Reward: -1306.00, Evacuated: 0, Deactivated: 2Warning: Could only place 0 dynamic obstacles instead of 3 due to space constraints\n",
      "Episode 34, Step 50000, Reward: -5049890.00, Evacuated: 0, Deactivated: 1Warning: Could only place 0 dynamic obstacles instead of 3 due to space constraints\n",
      "Episode 35, Step 50000, Reward: -5049802.00, Evacuated: 0, Deactivated: 1Warning: Could only place 0 dynamic obstacles instead of 3 due to space constraints\n",
      "Episode 36, Step 50000, Reward: -5049901.00, Evacuated: 0, Deactivated: 1Warning: Could only place 0 dynamic obstacles instead of 3 due to space constraints\n",
      "Episode 37, Step 4, Reward: -404.00, Evacuated: 0, Deactivated: 2Warning: Could only place 0 dynamic obstacles instead of 3 due to space constraints\n",
      "Episode 38, Step 50000, Reward: -5048152.00, Evacuated: 0, Deactivated: 1Warning: Could only place 0 dynamic obstacles instead of 3 due to space constraints\n",
      "Episode 39, Step 50000, Reward: -5046513.00, Evacuated: 0, Deactivated: 1Warning: Could only place 0 dynamic obstacles instead of 3 due to space constraints\n",
      "Episode 40, Step 2, Reward: -202.00, Evacuated: 0, Deactivated: 2Warning: Could only place 0 dynamic obstacles instead of 3 due to space constraints\n",
      "Episode 41, Step 55, Reward: -4763.00, Evacuated: 0, Deactivated: 2Warning: Could only place 0 dynamic obstacles instead of 3 due to space constraints\n",
      "Episode 42, Step 57, Reward: 95136.00, Evacuated: 1, Deactivated: 1Warning: Could only place 0 dynamic obstacles instead of 3 due to space constraints\n",
      "Episode 43, Step 19, Reward: -1996.00, Evacuated: 0, Deactivated: 2Warning: Could only place 0 dynamic obstacles instead of 3 due to space constraints\n",
      "Episode 44, Step 43, Reward: -636.00, Evacuated: 0, Deactivated: 2Warning: Could only place 0 dynamic obstacles instead of 3 due to space constraints\n",
      "Episode 45, Step 3, Reward: -303.00, Evacuated: 0, Deactivated: 2Warning: Could only place 0 dynamic obstacles instead of 3 due to space constraints\n",
      "Episode 46, Step 16, Reward: -1308.00, Evacuated: 0, Deactivated: 2Warning: Could only place 0 dynamic obstacles instead of 3 due to space constraints\n",
      "Episode 47, Step 50, Reward: -4951.00, Evacuated: 0, Deactivated: 2Warning: Could only place 0 dynamic obstacles instead of 3 due to space constraints\n",
      "Episode 48, Step 50000, Reward: -5050000.00, Evacuated: 0, Deactivated: 1Warning: Could only place 0 dynamic obstacles instead of 3 due to space constraints\n",
      "Episode 49, Step 50000, Reward: -5049593.00, Evacuated: 0, Deactivated: 1Warning: Could only place 0 dynamic obstacles instead of 3 due to space constraints\n",
      "Episode 50, Step 50000, Reward: -5047041.00, Evacuated: 0, Deactivated: 1Warning: Could only place 0 dynamic obstacles instead of 3 due to space constraints\n",
      "Episode 51, Step 50000, Reward: -5048372.00, Evacuated: 0, Deactivated: 1Warning: Could only place 0 dynamic obstacles instead of 3 due to space constraints\n",
      "Episode 52, Step 50000, Reward: -5049604.00, Evacuated: 0, Deactivated: 1Warning: Could only place 0 dynamic obstacles instead of 3 due to space constraints\n",
      "Episode 53, Step 50000, Reward: -5049901.00, Evacuated: 0, Deactivated: 1Warning: Could only place 0 dynamic obstacles instead of 3 due to space constraints\n",
      "Episode 54, Step 3, Reward: -303.00, Evacuated: 0, Deactivated: 2Warning: Could only place 0 dynamic obstacles instead of 3 due to space constraints\n",
      "Episode 55, Step 50000, Reward: -5049604.00, Evacuated: 0, Deactivated: 1Warning: Could only place 0 dynamic obstacles instead of 3 due to space constraints\n",
      "Episode 56, Step 50000, Reward: 50045.00, Evacuated: 1, Deactivated: 0Warning: Could only place 0 dynamic obstacles instead of 3 due to space constraints\n",
      "Episode 57, Step 69, Reward: -4285.00, Evacuated: 0, Deactivated: 2Warning: Could only place 0 dynamic obstacles instead of 3 due to space constraints\n",
      "Episode 58, Step 20, Reward: -1107.00, Evacuated: 0, Deactivated: 2Warning: Could only place 0 dynamic obstacles instead of 3 due to space constraints\n",
      "Episode 59, Step 50000, Reward: -5049494.00, Evacuated: 0, Deactivated: 1Warning: Could only place 0 dynamic obstacles instead of 3 due to space constraints\n",
      "Episode 60, Step 50000, Reward: -5047041.00, Evacuated: 0, Deactivated: 1Warning: Could only place 0 dynamic obstacles instead of 3 due to space constraints\n",
      "Episode 61, Step 50000, Reward: -5049604.00, Evacuated: 0, Deactivated: 1Warning: Could only place 0 dynamic obstacles instead of 3 due to space constraints\n",
      "Episode 62, Step 28, Reward: 97999.00, Evacuated: 1, Deactivated: 1Warning: Could only place 0 dynamic obstacles instead of 3 due to space constraints\n",
      "Episode 63, Step 50000, Reward: -5049802.00, Evacuated: 0, Deactivated: 1Warning: Could only place 0 dynamic obstacles instead of 3 due to space constraints\n",
      "Episode 64, Step 17, Reward: -628.00, Evacuated: 0, Deactivated: 2Warning: Could only place 0 dynamic obstacles instead of 3 due to space constraints\n",
      "Episode 65, Step 50000, Reward: -5049692.00, Evacuated: 0, Deactivated: 1Warning: Could only place 0 dynamic obstacles instead of 3 due to space constraints\n",
      "Episode 66, Step 50000, Reward: -5049802.00, Evacuated: 0, Deactivated: 1Warning: Could only place 0 dynamic obstacles instead of 3 due to space constraints\n",
      "Episode 67, Step 50000, Reward: -5049604.00, Evacuated: 0, Deactivated: 1Warning: Could only place 0 dynamic obstacles instead of 3 due to space constraints\n",
      "Episode 68, Step 50000, Reward: -5048900.00, Evacuated: 0, Deactivated: 1Warning: Could only place 0 dynamic obstacles instead of 3 due to space constraints\n",
      "Episode 69, Step 50000, Reward: -5049098.00, Evacuated: 0, Deactivated: 1Warning: Could only place 0 dynamic obstacles instead of 3 due to space constraints\n",
      "Episode 70, Step 32, Reward: -988.00, Evacuated: 0, Deactivated: 2Warning: Could only place 0 dynamic obstacles instead of 3 due to space constraints\n",
      "Episode 71, Step 50000, Reward: -5049307.00, Evacuated: 0, Deactivated: 1Warning: Could only place 0 dynamic obstacles instead of 3 due to space constraints\n",
      "Episode 72, Step 140, Reward: -10642.00, Evacuated: 0, Deactivated: 2Warning: Could only place 0 dynamic obstacles instead of 3 due to space constraints\n",
      "Episode 73, Step 50000, Reward: -5049703.00, Evacuated: 0, Deactivated: 1Warning: Could only place 0 dynamic obstacles instead of 3 due to space constraints\n",
      "Episode 74, Step 24, Reward: -2369.00, Evacuated: 0, Deactivated: 2Warning: Could only place 0 dynamic obstacles instead of 3 due to space constraints\n",
      "Episode 75, Step 50000, Reward: -5049901.00, Evacuated: 0, Deactivated: 1Warning: Could only place 0 dynamic obstacles instead of 3 due to space constraints\n",
      "Episode 76, Step 42, Reward: -3054.00, Evacuated: 0, Deactivated: 2Warning: Could only place 0 dynamic obstacles instead of 3 due to space constraints\n",
      "Episode 77, Step 70, Reward: -5904.00, Evacuated: 0, Deactivated: 2Warning: Could only place 0 dynamic obstacles instead of 3 due to space constraints\n",
      "Episode 78, Step 50000, Reward: -5049604.00, Evacuated: 0, Deactivated: 1Warning: Could only place 0 dynamic obstacles instead of 3 due to space constraints\n",
      "Episode 79, Step 11, Reward: -704.00, Evacuated: 0, Deactivated: 2Warning: Could only place 0 dynamic obstacles instead of 3 due to space constraints\n",
      "Episode 80, Step 50000, Reward: -5049274.00, Evacuated: 0, Deactivated: 1Warning: Could only place 0 dynamic obstacles instead of 3 due to space constraints\n",
      "Episode 81, Step 8, Reward: -808.00, Evacuated: 0, Deactivated: 2Warning: Could only place 0 dynamic obstacles instead of 3 due to space constraints\n",
      "Episode 82, Step 50000, Reward: -5048999.00, Evacuated: 0, Deactivated: 1Warning: Could only place 0 dynamic obstacles instead of 3 due to space constraints\n",
      "Episode 83, Step 3, Reward: -303.00, Evacuated: 0, Deactivated: 2Warning: Could only place 0 dynamic obstacles instead of 3 due to space constraints\n",
      "Episode 84, Step 50000, Reward: -5049802.00, Evacuated: 0, Deactivated: 1Warning: Could only place 0 dynamic obstacles instead of 3 due to space constraints\n",
      "Episode 85, Step 47, Reward: -2844.00, Evacuated: 0, Deactivated: 2Warning: Could only place 0 dynamic obstacles instead of 3 due to space constraints\n",
      "Episode 86, Step 59, Reward: -1636.00, Evacuated: 0, Deactivated: 2Warning: Could only place 0 dynamic obstacles instead of 3 due to space constraints\n",
      "Episode 87, Step 50000, Reward: -5049901.00, Evacuated: 0, Deactivated: 1Warning: Could only place 0 dynamic obstacles instead of 3 due to space constraints\n",
      "Episode 88, Step 26, Reward: -1658.00, Evacuated: 0, Deactivated: 2Warning: Could only place 0 dynamic obstacles instead of 3 due to space constraints\n",
      "Episode 89, Step 25, Reward: -2096.00, Evacuated: 0, Deactivated: 2Warning: Could only place 0 dynamic obstacles instead of 3 due to space constraints\n",
      "Episode 90, Step 26, Reward: -1680.00, Evacuated: 0, Deactivated: 2Warning: Could only place 0 dynamic obstacles instead of 3 due to space constraints\n",
      "Episode 91, Step 50000, Reward: -5045281.00, Evacuated: 0, Deactivated: 1Warning: Could only place 0 dynamic obstacles instead of 3 due to space constraints\n",
      "Episode 92, Step 24, Reward: -2193.00, Evacuated: 0, Deactivated: 2Warning: Could only place 0 dynamic obstacles instead of 3 due to space constraints\n",
      "Episode 93, Step 14, Reward: -1216.00, Evacuated: 0, Deactivated: 2Warning: Could only place 0 dynamic obstacles instead of 3 due to space constraints\n",
      "Episode 94, Step 1, Reward: -200.00, Evacuated: 0, Deactivated: 2Warning: Could only place 0 dynamic obstacles instead of 3 due to space constraints\n",
      "Episode 95, Step 50000, Reward: -5049593.00, Evacuated: 0, Deactivated: 1Warning: Could only place 0 dynamic obstacles instead of 3 due to space constraints\n",
      "Episode 96, Step 8, Reward: -808.00, Evacuated: 0, Deactivated: 2Warning: Could only place 0 dynamic obstacles instead of 3 due to space constraints\n",
      "Episode 97, Step 50000, Reward: -5049494.00, Evacuated: 0, Deactivated: 1Warning: Could only place 0 dynamic obstacles instead of 3 due to space constraints\n",
      "Episode 98, Step 50000, Reward: -5047338.00, Evacuated: 0, Deactivated: 1Warning: Could only place 0 dynamic obstacles instead of 3 due to space constraints\n",
      "Episode 99, Step 69, Reward: 99995.00, Evacuated: 1, Deactivated: 1Warning: Could only place 0 dynamic obstacles instead of 3 due to space constraints\n",
      "Episode 100, Step 12, Reward: -706.00, Evacuated: 0, Deactivated: 2Warning: Could only place 0 dynamic obstacles instead of 3 due to space constraints\n",
      "Episode 101, Step 90, Reward: -1038.00, Evacuated: 0, Deactivated: 2Warning: Could only place 0 dynamic obstacles instead of 3 due to space constraints\n",
      "Episode 102, Step 105, Reward: -9087.00, Evacuated: 0, Deactivated: 2Warning: Could only place 0 dynamic obstacles instead of 3 due to space constraints\n",
      "Episode 103, Step 50000, Reward: -5049901.00, Evacuated: 0, Deactivated: 1Warning: Could only place 0 dynamic obstacles instead of 3 due to space constraints\n",
      "Episode 104, Step 50000, Reward: -5049703.00, Evacuated: 0, Deactivated: 1Warning: Could only place 0 dynamic obstacles instead of 3 due to space constraints\n",
      "Episode 105, Step 38, Reward: -2639.00, Evacuated: 0, Deactivated: 2Warning: Could only place 0 dynamic obstacles instead of 3 due to space constraints\n",
      "Episode 106, Step 50000, Reward: -5049296.00, Evacuated: 0, Deactivated: 1Warning: Could only place 0 dynamic obstacles instead of 3 due to space constraints\n",
      "Episode 107, Step 50000, Reward: -5049703.00, Evacuated: 0, Deactivated: 1Warning: Could only place 0 dynamic obstacles instead of 3 due to space constraints\n",
      "Episode 108, Step 50000, Reward: -5050000.00, Evacuated: 0, Deactivated: 1Warning: Could only place 0 dynamic obstacles instead of 3 due to space constraints\n",
      "Episode 109, Step 50000, Reward: -5049395.00, Evacuated: 0, Deactivated: 1Warning: Could only place 0 dynamic obstacles instead of 3 due to space constraints\n",
      "Episode 110, Step 14, Reward: -809.00, Evacuated: 0, Deactivated: 2Warning: Could only place 0 dynamic obstacles instead of 3 due to space constraints\n",
      "Episode 111, Step 12, Reward: -893.00, Evacuated: 0, Deactivated: 2Warning: Could only place 0 dynamic obstacles instead of 3 due to space constraints\n",
      "Episode 112, Step 43, Reward: -3496.00, Evacuated: 0, Deactivated: 2Warning: Could only place 0 dynamic obstacles instead of 3 due to space constraints\n",
      "Episode 113, Step 3, Reward: -303.00, Evacuated: 0, Deactivated: 2Warning: Could only place 0 dynamic obstacles instead of 3 due to space constraints\n",
      "Episode 114, Step 50000, Reward: -5049197.00, Evacuated: 0, Deactivated: 1Warning: Could only place 0 dynamic obstacles instead of 3 due to space constraints\n",
      "Episode 115, Step 7, Reward: -311.00, Evacuated: 0, Deactivated: 2Warning: Could only place 0 dynamic obstacles instead of 3 due to space constraints\n",
      "Episode 116, Step 50000, Reward: -5048504.00, Evacuated: 0, Deactivated: 1Warning: Could only place 0 dynamic obstacles instead of 3 due to space constraints\n",
      "Episode 117, Step 7, Reward: -696.00, Evacuated: 0, Deactivated: 2Warning: Could only place 0 dynamic obstacles instead of 3 due to space constraints\n",
      "Episode 118, Step 15, Reward: -514.00, Evacuated: 0, Deactivated: 2Warning: Could only place 0 dynamic obstacles instead of 3 due to space constraints\n",
      "Episode 119, Step 50000, Reward: -5049285.00, Evacuated: 0, Deactivated: 1Warning: Could only place 0 dynamic obstacles instead of 3 due to space constraints\n",
      "Episode 120, Step 27, Reward: -2518.00, Evacuated: 0, Deactivated: 2Warning: Could only place 0 dynamic obstacles instead of 3 due to space constraints\n",
      "Episode 121, Step 50000, Reward: -5049494.00, Evacuated: 0, Deactivated: 1Warning: Could only place 0 dynamic obstacles instead of 3 due to space constraints\n",
      "Episode 122, Step 34, Reward: -2466.00, Evacuated: 0, Deactivated: 2Warning: Could only place 0 dynamic obstacles instead of 3 due to space constraints\n",
      "Episode 123, Step 50000, Reward: -5049296.00, Evacuated: 0, Deactivated: 1Warning: Could only place 0 dynamic obstacles instead of 3 due to space constraints\n",
      "Episode 124, Step 83, Reward: -5754.00, Evacuated: 0, Deactivated: 2Warning: Could only place 0 dynamic obstacles instead of 3 due to space constraints\n",
      "Episode 125, Step 31, Reward: 99916.00, Evacuated: 1, Deactivated: 1Warning: Could only place 0 dynamic obstacles instead of 3 due to space constraints\n",
      "Episode 126, Step 1, Reward: -200.00, Evacuated: 0, Deactivated: 2Warning: Could only place 0 dynamic obstacles instead of 3 due to space constraints\n",
      "Episode 127, Step 50000, Reward: -5050000.00, Evacuated: 0, Deactivated: 1Warning: Could only place 0 dynamic obstacles instead of 3 due to space constraints\n",
      "Episode 128, Step 50000, Reward: -5047547.00, Evacuated: 0, Deactivated: 1Warning: Could only place 0 dynamic obstacles instead of 3 due to space constraints\n",
      "Episode 129, Step 149, Reward: 89265.00, Evacuated: 1, Deactivated: 1Warning: Could only place 0 dynamic obstacles instead of 3 due to space constraints\n",
      "Episode 130, Step 50000, Reward: -5049901.00, Evacuated: 0, Deactivated: 1Warning: Could only place 0 dynamic obstacles instead of 3 due to space constraints\n",
      "Episode 131, Step 13, Reward: -1016.00, Evacuated: 0, Deactivated: 2Warning: Could only place 0 dynamic obstacles instead of 3 due to space constraints\n",
      "Episode 132, Step 50000, Reward: -5049791.00, Evacuated: 0, Deactivated: 1Warning: Could only place 0 dynamic obstacles instead of 3 due to space constraints\n",
      "Episode 133, Step 11, Reward: -407.00, Evacuated: 0, Deactivated: 2Warning: Could only place 0 dynamic obstacles instead of 3 due to space constraints\n",
      "Episode 134, Step 55, Reward: -737.00, Evacuated: 0, Deactivated: 2Warning: Could only place 0 dynamic obstacles instead of 3 due to space constraints\n",
      "Episode 135, Step 50000, Reward: -5049593.00, Evacuated: 0, Deactivated: 1Warning: Could only place 0 dynamic obstacles instead of 3 due to space constraints\n",
      "Episode 136, Step 50000, Reward: -5049593.00, Evacuated: 0, Deactivated: 1Warning: Could only place 0 dynamic obstacles instead of 3 due to space constraints\n",
      "Episode 137, Step 14, Reward: -1095.00, Evacuated: 0, Deactivated: 2Warning: Could only place 0 dynamic obstacles instead of 3 due to space constraints\n",
      "Episode 138, Step 50000, Reward: -5049901.00, Evacuated: 0, Deactivated: 1Warning: Could only place 0 dynamic obstacles instead of 3 due to space constraints\n",
      "Episode 139, Step 24, Reward: -2292.00, Evacuated: 0, Deactivated: 2Warning: Could only place 0 dynamic obstacles instead of 3 due to space constraints\n",
      "Episode 140, Step 50000, Reward: -5049109.00, Evacuated: 0, Deactivated: 1Warning: Could only place 0 dynamic obstacles instead of 3 due to space constraints\n",
      "Episode 141, Step 53, Reward: -5276.00, Evacuated: 0, Deactivated: 2Warning: Could only place 0 dynamic obstacles instead of 3 due to space constraints\n",
      "Episode 142, Step 50000, Reward: -5046821.00, Evacuated: 0, Deactivated: 1Warning: Could only place 0 dynamic obstacles instead of 3 due to space constraints\n",
      "Episode 143, Step 50000, Reward: -5049494.00, Evacuated: 0, Deactivated: 1Warning: Could only place 0 dynamic obstacles instead of 3 due to space constraints\n",
      "Episode 144, Step 45, Reward: -827.00, Evacuated: 0, Deactivated: 2Warning: Could only place 0 dynamic obstacles instead of 3 due to space constraints\n",
      "Episode 145, Step 16, Reward: -1308.00, Evacuated: 0, Deactivated: 2Warning: Could only place 0 dynamic obstacles instead of 3 due to space constraints\n",
      "Episode 146, Step 79, Reward: -4118.00, Evacuated: 0, Deactivated: 2Warning: Could only place 0 dynamic obstacles instead of 3 due to space constraints\n",
      "Episode 147, Step 50000, Reward: -5048889.00, Evacuated: 0, Deactivated: 1Warning: Could only place 0 dynamic obstacles instead of 3 due to space constraints\n",
      "Episode 148, Step 50000, Reward: -5050000.00, Evacuated: 0, Deactivated: 1Warning: Could only place 0 dynamic obstacles instead of 3 due to space constraints\n",
      "Episode 149, Step 15, Reward: -778.00, Evacuated: 0, Deactivated: 2Warning: Could only place 0 dynamic obstacles instead of 3 due to space constraints\n",
      "Episode 150, Step 50000, Reward: -5049901.00, Evacuated: 0, Deactivated: 1Warning: Could only place 0 dynamic obstacles instead of 3 due to space constraints\n",
      "Episode 151, Step 50000, Reward: -5050000.00, Evacuated: 0, Deactivated: 1Warning: Could only place 0 dynamic obstacles instead of 3 due to space constraints\n",
      "Episode 152, Step 50000, Reward: -5049901.00, Evacuated: 0, Deactivated: 1Warning: Could only place 0 dynamic obstacles instead of 3 due to space constraints\n",
      "Episode 153, Step 60, Reward: -6049.00, Evacuated: 0, Deactivated: 2Warning: Could only place 0 dynamic obstacles instead of 3 due to space constraints\n",
      "Episode 154, Step 50000, Reward: -5048086.00, Evacuated: 0, Deactivated: 1Warning: Could only place 0 dynamic obstacles instead of 3 due to space constraints\n",
      "Episode 155, Step 50000, Reward: -5049989.00, Evacuated: 0, Deactivated: 1Warning: Could only place 0 dynamic obstacles instead of 3 due to space constraints\n",
      "Episode 156, Step 26, Reward: -1801.00, Evacuated: 0, Deactivated: 2Warning: Could only place 0 dynamic obstacles instead of 3 due to space constraints\n",
      "Episode 157, Step 50000, Reward: -5048911.00, Evacuated: 0, Deactivated: 1Warning: Could only place 0 dynamic obstacles instead of 3 due to space constraints\n",
      "Episode 158, Step 14, Reward: -919.00, Evacuated: 0, Deactivated: 2Warning: Could only place 0 dynamic obstacles instead of 3 due to space constraints\n",
      "Episode 159, Step 2, Reward: -202.00, Evacuated: 0, Deactivated: 2Warning: Could only place 0 dynamic obstacles instead of 3 due to space constraints\n",
      "Episode 160, Step 19, Reward: -1204.00, Evacuated: 0, Deactivated: 2Warning: Could only place 0 dynamic obstacles instead of 3 due to space constraints\n",
      "Episode 161, Step 50000, Reward: -5048702.00, Evacuated: 0, Deactivated: 1Warning: Could only place 0 dynamic obstacles instead of 3 due to space constraints\n",
      "Episode 162, Step 2, Reward: -301.00, Evacuated: 0, Deactivated: 2Warning: Could only place 0 dynamic obstacles instead of 3 due to space constraints\n",
      "Episode 163, Step 10, Reward: -394.00, Evacuated: 0, Deactivated: 2Warning: Could only place 0 dynamic obstacles instead of 3 due to space constraints\n",
      "Episode 164, Step 50000, Reward: -5047877.00, Evacuated: 0, Deactivated: 1Warning: Could only place 0 dynamic obstacles instead of 3 due to space constraints\n",
      "Episode 165, Step 27, Reward: 99895.00, Evacuated: 1, Deactivated: 1Warning: Could only place 0 dynamic obstacles instead of 3 due to space constraints\n",
      "Episode 166, Step 25, Reward: -1590.00, Evacuated: 0, Deactivated: 2Warning: Could only place 0 dynamic obstacles instead of 3 due to space constraints\n",
      "Episode 167, Step 42, Reward: -2691.00, Evacuated: 0, Deactivated: 2Warning: Could only place 0 dynamic obstacles instead of 3 due to space constraints\n",
      "Episode 168, Step 13, Reward: -1104.00, Evacuated: 0, Deactivated: 2Warning: Could only place 0 dynamic obstacles instead of 3 due to space constraints\n"
     ]
    }
   ],
   "source": [
    "trained_agent, all_rewards, all_results = simulate.train('config.json')"
   ]
  },
  {
   "cell_type": "code",
   "execution_count": 1,
   "id": "ee8e60bb",
   "metadata": {},
   "outputs": [
    {
     "ename": "NameError",
     "evalue": "name 'simulate' is not defined",
     "output_type": "error",
     "traceback": [
      "\u001b[31m---------------------------------------------------------------------------\u001b[39m",
      "\u001b[31mNameError\u001b[39m                                 Traceback (most recent call last)",
      "\u001b[36mCell\u001b[39m\u001b[36m \u001b[39m\u001b[32mIn[1]\u001b[39m\u001b[32m, line 2\u001b[39m\n\u001b[32m      1\u001b[39m \u001b[38;5;66;03m# Plot the cumulated rewards per episode\u001b[39;00m\n\u001b[32m----> \u001b[39m\u001b[32m2\u001b[39m \u001b[43msimulate\u001b[49m.plot_cumulated_rewards(all_rewards)\n",
      "\u001b[31mNameError\u001b[39m: name 'simulate' is not defined"
     ]
    }
   ],
   "source": [
    "# Plot the cumulated rewards per episode\n",
    "simulate.plot_cumulated_rewards(all_rewards)"
   ]
  },
  {
   "cell_type": "code",
   "execution_count": 15,
   "id": "ca5b2332",
   "metadata": {},
   "outputs": [
    {
     "name": "stderr",
     "output_type": "stream",
     "text": [
      "/tmp/ipykernel_19599/2065637453.py:10: DeprecationWarning: Non-integer input passed to bincount. In a future version of NumPy, this will be an error. (Deprecated NumPy 2.1)\n",
      "  counts[i] = np.bincount(lst, minlength=3)\n",
      "/tmp/ipykernel_19599/2065637453.py:12: DeprecationWarning: Non-integer input passed to bincount. In a future version of NumPy, this will be an error. (Deprecated NumPy 2.1)\n",
      "  counts[i] = counts[i - 1] + np.bincount(lst, minlength=3)\n"
     ]
    },
    {
     "data": {
      "image/png": "[encoded data removed]",
      "text/plain": [
       "<Figure size 640x480 with 1 Axes>"
      ]
     },
     "metadata": {},
     "output_type": "display_data"
    }
   ],
   "source": [
    "import matplotlib.pyplot as plt\n",
    "import numpy as np\n",
    "\n",
    "def plot_cumulative_counts(data):\n",
    "    counts = np.zeros((len(data), 3))  # Stocke le cumul pour [0, 1, 2]\n",
    "\n",
    "    # Calculer les comptes cumulés\n",
    "    for i, lst in enumerate(data):\n",
    "        if i == 0:\n",
    "            counts[i] = np.bincount(lst, minlength=3)\n",
    "        else:\n",
    "            counts[i] = counts[i - 1] + np.bincount(lst, minlength=3)\n",
    "\n",
    "    # Affichage du graphique\n",
    "    plt.plot(range(1, len(data) + 1), counts[:, 0], label='0', marker='o', linestyle='-')\n",
    "    plt.plot(range(1, len(data) + 1), counts[:, 1], label='1', marker='s', linestyle='-')\n",
    "    plt.plot(range(1, len(data) + 1), counts[:, 2], label='2', marker='^', linestyle='-')\n",
    "\n",
    "    plt.xlabel(\"Nombre de listes\")\n",
    "    plt.ylabel(\"Nombre cumulé d'occurrences\")\n",
    "    plt.legend()\n",
    "    plt.title(\"Évolution cumulative des valeurs 0, 1 et 2\")\n",
    "    plt.grid(True)\n",
    "    plt.show()\n",
    "\n",
    "plot_cumulative_counts(all_results)"
   ]
  },
  {
   "cell_type": "markdown",
   "id": "c2ac3652-834a-4943-a2f6-96dc395a21ae",
   "metadata": {},
   "source": [
    "## 2. Evaluation"
   ]
  },
  {
   "cell_type": "code",
   "execution_count": 7,
   "id": "16713487-5971-4789-bc72-08bc1fb2dc63",
   "metadata": {},
   "outputs": [],
   "source": [
    "# eval_config_paths = [f\"./eval_configs/config_{i}.json\" for i in range(1, 11)]\n",
    "eval_config_paths = [f\"./config.json\"] "
   ]
  },
  {
   "cell_type": "code",
   "execution_count": 9,
   "id": "8f7ddc0a-19ce-4e67-996f-a19432201b6f",
   "metadata": {
    "scrolled": true
   },
   "outputs": [
    {
     "name": "stdout",
     "output_type": "stream",
     "text": [
      "\n",
      "--- Evaluating Configuration: ./config.json ---\n",
      "Warning: Could only place 0 dynamic obstacles instead of 3 due to space constraints\n",
      "Episode 1/10, Step 500, Reward: -50500.00, Evacuated: 0, Deactivated: 1\n",
      "Warning: Could only place 0 dynamic obstacles instead of 3 due to space constraints\n",
      "Episode 2/10, Step 500, Reward: -50302.00, Evacuated: 0, Deactivated: 1\n",
      "Warning: Could only place 0 dynamic obstacles instead of 3 due to space constraints\n",
      "Episode 3/10, Step 26, Reward: -927.00, Evacuated: 0, Deactivated: 2\n",
      "Warning: Could only place 0 dynamic obstacles instead of 3 due to space constraints\n",
      "Episode 4/10, Step 500, Reward: -49805.00, Evacuated: 0, Deactivated: 1\n",
      "Warning: Could only place 0 dynamic obstacles instead of 3 due to space constraints\n",
      "Episode 5/10, Step 29, Reward: -238.00, Evacuated: 0, Deactivated: 2\n",
      "Warning: Could only place 0 dynamic obstacles instead of 3 due to space constraints\n",
      "Episode 6/10, Step 500, Reward: -48213.00, Evacuated: 0, Deactivated: 1\n",
      "Warning: Could only place 0 dynamic obstacles instead of 3 due to space constraints\n",
      "Episode 7/10, Step 500, Reward: -50005.00, Evacuated: 0, Deactivated: 1\n",
      "Warning: Could only place 0 dynamic obstacles instead of 3 due to space constraints\n",
      "Episode 8/10, Step 500, Reward: -50302.00, Evacuated: 0, Deactivated: 1\n",
      "Warning: Could only place 0 dynamic obstacles instead of 3 due to space constraints\n",
      "Episode 9/10, Step 51, Reward: 860.00, Evacuated: 1, Deactivated: 1\n",
      "Warning: Could only place 0 dynamic obstacles instead of 3 due to space constraints\n",
      "Episode 10/10, Step 500, Reward: -50500.00, Evacuated: 0, Deactivated: 1\n"
     ]
    }
   ],
   "source": [
    "all_results = simulate.evaluate(eval_config_paths, trained_agent)"
   ]
  },
  {
   "cell_type": "code",
   "execution_count": 10,
   "id": "7e43948f",
   "metadata": {},
   "outputs": [
    {
     "data": {
      "text/html": [
       "<div>\n",
       "<style scoped>\n",
       "    .dataframe tbody tr th:only-of-type {\n",
       "        vertical-align: middle;\n",
       "    }\n",
       "\n",
       "    .dataframe tbody tr th {\n",
       "        vertical-align: top;\n",
       "    }\n",
       "\n",
       "    .dataframe thead th {\n",
       "        text-align: right;\n",
       "    }\n",
       "</style>\n",
       "<table border=\"1\" class=\"dataframe\">\n",
       "  <thead>\n",
       "    <tr style=\"text-align: right;\">\n",
       "      <th></th>\n",
       "      <th>config_path</th>\n",
       "      <th>episode</th>\n",
       "      <th>steps</th>\n",
       "      <th>reward</th>\n",
       "      <th>evacuated</th>\n",
       "      <th>deactivated</th>\n",
       "    </tr>\n",
       "  </thead>\n",
       "  <tbody>\n",
       "    <tr>\n",
       "      <th>0</th>\n",
       "      <td>./config.json</td>\n",
       "      <td>1</td>\n",
       "      <td>500</td>\n",
       "      <td>-50500.0</td>\n",
       "      <td>0</td>\n",
       "      <td>1</td>\n",
       "    </tr>\n",
       "    <tr>\n",
       "      <th>1</th>\n",
       "      <td>./config.json</td>\n",
       "      <td>2</td>\n",
       "      <td>500</td>\n",
       "      <td>-50302.0</td>\n",
       "      <td>0</td>\n",
       "      <td>1</td>\n",
       "    </tr>\n",
       "    <tr>\n",
       "      <th>2</th>\n",
       "      <td>./config.json</td>\n",
       "      <td>3</td>\n",
       "      <td>26</td>\n",
       "      <td>-927.0</td>\n",
       "      <td>0</td>\n",
       "      <td>2</td>\n",
       "    </tr>\n",
       "    <tr>\n",
       "      <th>3</th>\n",
       "      <td>./config.json</td>\n",
       "      <td>4</td>\n",
       "      <td>500</td>\n",
       "      <td>-49805.0</td>\n",
       "      <td>0</td>\n",
       "      <td>1</td>\n",
       "    </tr>\n",
       "    <tr>\n",
       "      <th>4</th>\n",
       "      <td>./config.json</td>\n",
       "      <td>5</td>\n",
       "      <td>29</td>\n",
       "      <td>-238.0</td>\n",
       "      <td>0</td>\n",
       "      <td>2</td>\n",
       "    </tr>\n",
       "    <tr>\n",
       "      <th>5</th>\n",
       "      <td>./config.json</td>\n",
       "      <td>6</td>\n",
       "      <td>500</td>\n",
       "      <td>-48213.0</td>\n",
       "      <td>0</td>\n",
       "      <td>1</td>\n",
       "    </tr>\n",
       "    <tr>\n",
       "      <th>6</th>\n",
       "      <td>./config.json</td>\n",
       "      <td>7</td>\n",
       "      <td>500</td>\n",
       "      <td>-50005.0</td>\n",
       "      <td>0</td>\n",
       "      <td>1</td>\n",
       "    </tr>\n",
       "    <tr>\n",
       "      <th>7</th>\n",
       "      <td>./config.json</td>\n",
       "      <td>8</td>\n",
       "      <td>500</td>\n",
       "      <td>-50302.0</td>\n",
       "      <td>0</td>\n",
       "      <td>1</td>\n",
       "    </tr>\n",
       "    <tr>\n",
       "      <th>8</th>\n",
       "      <td>./config.json</td>\n",
       "      <td>9</td>\n",
       "      <td>51</td>\n",
       "      <td>860.0</td>\n",
       "      <td>1</td>\n",
       "      <td>1</td>\n",
       "    </tr>\n",
       "    <tr>\n",
       "      <th>9</th>\n",
       "      <td>./config.json</td>\n",
       "      <td>10</td>\n",
       "      <td>500</td>\n",
       "      <td>-50500.0</td>\n",
       "      <td>0</td>\n",
       "      <td>1</td>\n",
       "    </tr>\n",
       "  </tbody>\n",
       "</table>\n",
       "</div>"
      ],
      "text/plain": [
       "     config_path  episode  steps   reward  evacuated  deactivated\n",
       "0  ./config.json        1    500 -50500.0          0            1\n",
       "1  ./config.json        2    500 -50302.0          0            1\n",
       "2  ./config.json        3     26   -927.0          0            2\n",
       "3  ./config.json        4    500 -49805.0          0            1\n",
       "4  ./config.json        5     29   -238.0          0            2\n",
       "5  ./config.json        6    500 -48213.0          0            1\n",
       "6  ./config.json        7    500 -50005.0          0            1\n",
       "7  ./config.json        8    500 -50302.0          0            1\n",
       "8  ./config.json        9     51    860.0          1            1\n",
       "9  ./config.json       10    500 -50500.0          0            1"
      ]
     },
     "metadata": {},
     "output_type": "display_data"
    }
   ],
   "source": [
    "display(all_results)"
   ]
  },
  {
   "cell_type": "code",
   "execution_count": null,
   "id": "e82856a0",
   "metadata": {},
   "outputs": [],
   "source": [
    "# Calculate averages for each configuration\n",
    "averages = all_results.groupby('config_path').mean().reset_index().drop(columns=['episode'])\n",
    "averages = averages.rename(columns={\n",
    "    'steps': 'avg_steps',\n",
    "    'reward': 'avg_reward',\n",
    "    'evacuated': 'avg_evacuated',\n",
    "    'deactivated': 'avg_deactivated'})\n",
    "\n",
    "display(averages)\n",
    "averages.to_csv('averages.csv', index=False)"
   ]
  }
 ],
 "metadata": {
  "kernelspec": {
   "display_name": "Python 3.12.0 64-bit",
   "language": "python",
   "name": "python3"
  },
  "language_info": {
   "codemirror_mode": {
    "name": "ipython",
    "version": 3
   },
   "file_extension": ".py",
   "mimetype": "text/x-python",
   "name": "python",
   "nbconvert_exporter": "python",
   "pygments_lexer": "ipython3",
   "version": "3.12.9"
  },
  "vscode": {
   "interpreter": {
    "hash": "9240d949b7e875368571ba59acc67192d2efbcc4561b3c6f94c83d7858e18732"
   }
  }
 },
 "nbformat": 4,
 "nbformat_minor": 5
}
