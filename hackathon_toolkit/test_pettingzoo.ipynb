{
 "cells": [
  {
   "cell_type": "code",
   "execution_count": 1,
   "metadata": {},
   "outputs": [],
   "source": [
    "%load_ext autoreload\n",
    "%autoreload 2\n",
    "\n",
    "import numpy as np\n",
    "import pandas as pd\n",
    "import matplotlib.pyplot as plt\n",
    "import json\n",
    "import argparse\n",
    "import time\n",
    "from typing import Tuple, Optional, Dict\n",
    "import torch\n",
    "import torch.nn as nn\n",
    "import torch.optim as optim\n",
    "import torch.nn.functional as F\n",
    "import random\n",
    "\n",
    "from process_state import StateNormalizer\n",
    "from env import MazeEnv\n",
    "from agent_basic import MyAgents"
   ]
  },
  {
   "cell_type": "code",
   "execution_count": 2,
   "metadata": {},
   "outputs": [],
   "source": [
    "import tensorboard"
   ]
  },
  {
   "cell_type": "code",
   "execution_count": 4,
   "metadata": {},
   "outputs": [
    {
     "name": "stdout",
     "output_type": "stream",
     "text": [
      "Note: you may need to restart the kernel to use updated packages.Collecting stable-baselines3\n",
      "  Downloading stable_baselines3-2.5.0-py3-none-any.whl.metadata (4.8 kB)\n",
      "Collecting gymnasium<1.1.0,>=0.29.1 (from stable-baselines3)\n",
      "  Downloading gymnasium-1.0.0-py3-none-any.whl.metadata (9.5 kB)\n",
      "Requirement already satisfied: numpy<3.0,>=1.20 in c:\\users\\etien\\appdata\\local\\programs\\python\\python311\\lib\\site-packages (from stable-baselines3) (1.26.1)\n",
      "Requirement already satisfied: torch<3.0,>=2.3 in c:\\users\\etien\\appdata\\local\\programs\\python\\python311\\lib\\site-packages (from stable-baselines3) (2.5.1+cu124)\n",
      "Requirement already satisfied: cloudpickle in c:\\users\\etien\\appdata\\local\\programs\\python\\python311\\lib\\site-packages (from stable-baselines3) (3.1.1)\n",
      "Requirement already satisfied: pandas in c:\\users\\etien\\appdata\\local\\programs\\python\\python311\\lib\\site-packages (from stable-baselines3) (2.1.1)\n",
      "Requirement already satisfied: matplotlib in c:\\users\\etien\\appdata\\local\\programs\\python\\python311\\lib\\site-packages (from stable-baselines3) (3.8.2)\n",
      "Requirement already satisfied: typing-extensions>=4.3.0 in c:\\users\\etien\\appdata\\local\\programs\\python\\python311\\lib\\site-packages (from gymnasium<1.1.0,>=0.29.1->stable-baselines3) (4.9.0)\n",
      "Requirement already satisfied: farama-notifications>=0.0.1 in c:\\users\\etien\\appdata\\local\\programs\\python\\python311\\lib\\site-packages (from gymnasium<1.1.0,>=0.29.1->stable-baselines3) (0.0.4)\n",
      "Requirement already satisfied: filelock in c:\\users\\etien\\appdata\\local\\programs\\python\\python311\\lib\\site-packages (from torch<3.0,>=2.3->stable-baselines3) (3.16.1)\n",
      "Requirement already satisfied: networkx in c:\\users\\etien\\appdata\\local\\programs\\python\\python311\\lib\\site-packages (from torch<3.0,>=2.3->stable-baselines3) (3.3)\n",
      "Requirement already satisfied: jinja2 in c:\\users\\etien\\appdata\\local\\programs\\python\\python311\\lib\\site-packages (from torch<3.0,>=2.3->stable-baselines3) (3.1.4)\n",
      "Requirement already satisfied: fsspec in c:\\users\\etien\\appdata\\local\\programs\\python\\python311\\lib\\site-packages (from torch<3.0,>=2.3->stable-baselines3) (2024.9.0)\n",
      "Requirement already satisfied: sympy==1.13.1 in c:\\users\\etien\\appdata\\local\\programs\\python\\python311\\lib\\site-packages (from torch<3.0,>=2.3->stable-baselines3) (1.13.1)\n",
      "Requirement already satisfied: mpmath<1.4,>=1.1.0 in c:\\users\\etien\\appdata\\local\\programs\\python\\python311\\lib\\site-packages (from sympy==1.13.1->torch<3.0,>=2.3->stable-baselines3) (1.3.0)\n",
      "Requirement already satisfied: contourpy>=1.0.1 in c:\\users\\etien\\appdata\\local\\programs\\python\\python311\\lib\\site-packages (from matplotlib->stable-baselines3) (1.2.0)\n",
      "Requirement already satisfied: cycler>=0.10 in c:\\users\\etien\\appdata\\local\\programs\\python\\python311\\lib\\site-packages (from matplotlib->stable-baselines3) (0.12.1)\n",
      "Requirement already satisfied: fonttools>=4.22.0 in c:\\users\\etien\\appdata\\local\\programs\\python\\python311\\lib\\site-packages (from matplotlib->stable-baselines3) (4.47.2)\n",
      "Requirement already satisfied: kiwisolver>=1.3.1 in c:\\users\\etien\\appdata\\local\\programs\\python\\python311\\lib\\site-packages (from matplotlib->stable-baselines3) (1.4.5)\n",
      "Requirement already satisfied: packaging>=20.0 in c:\\users\\etien\\appdata\\roaming\\python\\python311\\site-packages (from matplotlib->stable-baselines3) (23.2)\n",
      "Requirement already satisfied: pillow>=8 in c:\\users\\etien\\appdata\\local\\programs\\python\\python311\\lib\\site-packages (from matplotlib->stable-baselines3) (10.2.0)\n",
      "Requirement already satisfied: pyparsing>=2.3.1 in c:\\users\\etien\\appdata\\local\\programs\\python\\python311\\lib\\site-packages (from matplotlib->stable-baselines3) (3.1.1)\n",
      "Requirement already satisfied: python-dateutil>=2.7 in c:\\users\\etien\\appdata\\local\\programs\\python\\python311\\lib\\site-packages (from matplotlib->stable-baselines3) (2.8.2)\n",
      "Requirement already satisfied: pytz>=2020.1 in c:\\users\\etien\\appdata\\local\\programs\\python\\python311\\lib\\site-packages (from pandas->stable-baselines3) (2023.3.post1)\n",
      "Requirement already satisfied: tzdata>=2022.1 in c:\\users\\etien\\appdata\\local\\programs\\python\\python311\\lib\\site-packages (from pandas->stable-baselines3) (2023.3)\n",
      "Requirement already satisfied: six>=1.5 in c:\\users\\etien\\appdata\\local\\programs\\python\\python311\\lib\\site-packages (from python-dateutil>=2.7->matplotlib->stable-baselines3) (1.16.0)\n",
      "Requirement already satisfied: MarkupSafe>=2.0 in c:\\users\\etien\\appdata\\local\\programs\\python\\python311\\lib\\site-packages (from jinja2->torch<3.0,>=2.3->stable-baselines3) (2.1.5)\n",
      "Downloading stable_baselines3-2.5.0-py3-none-any.whl (183 kB)\n",
      "Downloading gymnasium-1.0.0-py3-none-any.whl (958 kB)\n",
      "   ---------------------------------------- 0.0/958.1 kB ? eta -:--:--\n",
      "   --------------------------------------- 958.1/958.1 kB 43.5 MB/s eta 0:00:00\n",
      "Installing collected packages: gymnasium, stable-baselines3\n",
      "  Attempting uninstall: gymnasium\n",
      "    Found existing installation: gymnasium 1.1.0\n",
      "    Uninstalling gymnasium-1.1.0:\n",
      "      Successfully uninstalled gymnasium-1.1.0\n",
      "Successfully installed gymnasium-1.0.0 stable-baselines3-2.5.0\n",
      "\n"
     ]
    },
    {
     "name": "stderr",
     "output_type": "stream",
     "text": [
      "\n",
      "[notice] A new release of pip is available: 24.3.1 -> 25.0.1\n",
      "[notice] To update, run: python.exe -m pip install --upgrade pip\n"
     ]
    }
   ],
   "source": [
    "%pip install stable-baselines3"
   ]
  },
  {
   "cell_type": "code",
   "execution_count": 9,
   "metadata": {},
   "outputs": [
    {
     "ename": "AssertionError",
     "evalue": "No data found in the saved file",
     "output_type": "error",
     "traceback": [
      "\u001b[1;31m---------------------------------------------------------------------------\u001b[0m",
      "\u001b[1;31mAssertionError\u001b[0m                            Traceback (most recent call last)",
      "Cell \u001b[1;32mIn[9], line 9\u001b[0m\n\u001b[0;32m      7\u001b[0m \u001b[38;5;66;03m# Check if the file exists and is not empty\u001b[39;00m\n\u001b[0;32m      8\u001b[0m \u001b[38;5;28;01mif\u001b[39;00m os\u001b[38;5;241m.\u001b[39mpath\u001b[38;5;241m.\u001b[39mexists(file_path) \u001b[38;5;129;01mand\u001b[39;00m os\u001b[38;5;241m.\u001b[39mpath\u001b[38;5;241m.\u001b[39mgetsize(file_path) \u001b[38;5;241m>\u001b[39m \u001b[38;5;241m0\u001b[39m:\n\u001b[1;32m----> 9\u001b[0m \tmodel \u001b[38;5;241m=\u001b[39m \u001b[43mDQN\u001b[49m\u001b[38;5;241;43m.\u001b[39;49m\u001b[43mload\u001b[49m\u001b[43m(\u001b[49m\u001b[43mfile_path\u001b[49m\u001b[43m)\u001b[49m\n\u001b[0;32m     10\u001b[0m \u001b[38;5;28;01melse\u001b[39;00m:\n\u001b[0;32m     11\u001b[0m \t\u001b[38;5;28;01mraise\u001b[39;00m \u001b[38;5;167;01mFileNotFoundError\u001b[39;00m(\u001b[38;5;124mf\u001b[39m\u001b[38;5;124m\"\u001b[39m\u001b[38;5;124mNo data found in the saved file: \u001b[39m\u001b[38;5;132;01m{\u001b[39;00mfile_path\u001b[38;5;132;01m}\u001b[39;00m\u001b[38;5;124m\"\u001b[39m)\n",
      "File \u001b[1;32mc:\\Users\\etien\\AppData\\Local\\Programs\\Python\\Python311\\Lib\\site-packages\\stable_baselines3\\common\\base_class.py:688\u001b[0m, in \u001b[0;36mBaseAlgorithm.load\u001b[1;34m(cls, path, env, device, custom_objects, print_system_info, force_reset, **kwargs)\u001b[0m\n\u001b[0;32m    679\u001b[0m     get_system_info()\n\u001b[0;32m    681\u001b[0m data, params, pytorch_variables \u001b[38;5;241m=\u001b[39m load_from_zip_file(\n\u001b[0;32m    682\u001b[0m     path,\n\u001b[0;32m    683\u001b[0m     device\u001b[38;5;241m=\u001b[39mdevice,\n\u001b[0;32m    684\u001b[0m     custom_objects\u001b[38;5;241m=\u001b[39mcustom_objects,\n\u001b[0;32m    685\u001b[0m     print_system_info\u001b[38;5;241m=\u001b[39mprint_system_info,\n\u001b[0;32m    686\u001b[0m )\n\u001b[1;32m--> 688\u001b[0m \u001b[38;5;28;01massert\u001b[39;00m data \u001b[38;5;129;01mis\u001b[39;00m \u001b[38;5;129;01mnot\u001b[39;00m \u001b[38;5;28;01mNone\u001b[39;00m, \u001b[38;5;124m\"\u001b[39m\u001b[38;5;124mNo data found in the saved file\u001b[39m\u001b[38;5;124m\"\u001b[39m\n\u001b[0;32m    689\u001b[0m \u001b[38;5;28;01massert\u001b[39;00m params \u001b[38;5;129;01mis\u001b[39;00m \u001b[38;5;129;01mnot\u001b[39;00m \u001b[38;5;28;01mNone\u001b[39;00m, \u001b[38;5;124m\"\u001b[39m\u001b[38;5;124mNo params found in the saved file\u001b[39m\u001b[38;5;124m\"\u001b[39m\n\u001b[0;32m    691\u001b[0m \u001b[38;5;66;03m# Remove stored device information and replace with ours\u001b[39;00m\n",
      "\u001b[1;31mAssertionError\u001b[0m: No data found in the saved file"
     ]
    }
   ],
   "source": [
    "from stable_baselines3 import DQN\n",
    "import os\n",
    "\n",
    "# Ensure the correct file path and extension\n",
    "file_path = \"DQN_peetingzoo.zip\"\n",
    "\n",
    "# Check if the file exists and is not empty\n",
    "if os.path.exists(file_path) and os.path.getsize(file_path) > 0:\n",
    "\tmodel = DQN.load(file_path)\n",
    "else:\n",
    "\traise FileNotFoundError(f\"No data found in the saved file: {file_path}\")"
   ]
  },
  {
   "cell_type": "code",
   "execution_count": null,
   "metadata": {},
   "outputs": [],
   "source": []
  }
 ],
 "metadata": {
  "kernelspec": {
   "display_name": "Python 3",
   "language": "python",
   "name": "python3"
  },
  "language_info": {
   "codemirror_mode": {
    "name": "ipython",
    "version": 3
   },
   "file_extension": ".py",
   "mimetype": "text/x-python",
   "name": "python",
   "nbconvert_exporter": "python",
   "pygments_lexer": "ipython3",
   "version": "3.11.3"
  }
 },
 "nbformat": 4,
 "nbformat_minor": 2
}
