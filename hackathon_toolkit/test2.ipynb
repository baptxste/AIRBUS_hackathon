{
 "cells": [
  {
   "cell_type": "code",
   "execution_count": 1,
   "metadata": {},
   "outputs": [
    {
     "ename": "AssertionError",
     "evalue": "action space does not inherit from `gym.spaces.Space`, actual type: <class 'gymnasium.spaces.discrete.Discrete'>",
     "output_type": "error",
     "traceback": [
      "\u001b[31m---------------------------------------------------------------------------\u001b[39m",
      "\u001b[31mAssertionError\u001b[39m                            Traceback (most recent call last)",
      "\u001b[36mCell\u001b[39m\u001b[36m \u001b[39m\u001b[32mIn[1]\u001b[39m\u001b[32m, line 12\u001b[39m\n\u001b[32m      6\u001b[39m gym.envs.registration.register(\n\u001b[32m      7\u001b[39m     \u001b[38;5;28mid\u001b[39m=\u001b[33m'\u001b[39m\u001b[33mMazeEnv-v0\u001b[39m\u001b[33m'\u001b[39m,\n\u001b[32m      8\u001b[39m     entry_point=\u001b[33m'\u001b[39m\u001b[33menv:MazeEnv\u001b[39m\u001b[33m'\u001b[39m,  \u001b[38;5;66;03m# Format correct: module:classe\u001b[39;00m\n\u001b[32m      9\u001b[39m )\n\u001b[32m     11\u001b[39m \u001b[38;5;66;03m# Charger ton environnement personnalisé\u001b[39;00m\n\u001b[32m---> \u001b[39m\u001b[32m12\u001b[39m env = \u001b[43mgym\u001b[49m\u001b[43m.\u001b[49m\u001b[43mmake\u001b[49m\u001b[43m(\u001b[49m\u001b[33;43m'\u001b[39;49m\u001b[33;43mMazeEnv-v0\u001b[39;49m\u001b[33;43m'\u001b[39;49m\u001b[43m)\u001b[49m\n\u001b[32m     14\u001b[39m \u001b[38;5;66;03m# Utilisation d'un agent Stable-Baselines3, ici DQN\u001b[39;00m\n\u001b[32m     15\u001b[39m model = DQN(\u001b[33m'\u001b[39m\u001b[33mMlpPolicy\u001b[39m\u001b[33m'\u001b[39m, env, verbose=\u001b[32m1\u001b[39m)\n",
      "\u001b[36mFile \u001b[39m\u001b[32m~/micromamba/envs/hack/lib/python3.12/site-packages/gym/envs/registration.py:669\u001b[39m, in \u001b[36mmake\u001b[39m\u001b[34m(id, max_episode_steps, autoreset, apply_api_compatibility, disable_env_checker, **kwargs)\u001b[39m\n\u001b[32m    665\u001b[39m \u001b[38;5;66;03m# Run the environment checker as the lowest level wrapper\u001b[39;00m\n\u001b[32m    666\u001b[39m \u001b[38;5;28;01mif\u001b[39;00m disable_env_checker \u001b[38;5;129;01mis\u001b[39;00m \u001b[38;5;28;01mFalse\u001b[39;00m \u001b[38;5;129;01mor\u001b[39;00m (\n\u001b[32m    667\u001b[39m     disable_env_checker \u001b[38;5;129;01mis\u001b[39;00m \u001b[38;5;28;01mNone\u001b[39;00m \u001b[38;5;129;01mand\u001b[39;00m spec_.disable_env_checker \u001b[38;5;129;01mis\u001b[39;00m \u001b[38;5;28;01mFalse\u001b[39;00m\n\u001b[32m    668\u001b[39m ):\n\u001b[32m--> \u001b[39m\u001b[32m669\u001b[39m     env = \u001b[43mPassiveEnvChecker\u001b[49m\u001b[43m(\u001b[49m\u001b[43menv\u001b[49m\u001b[43m)\u001b[49m\n\u001b[32m    671\u001b[39m \u001b[38;5;66;03m# Add the order enforcing wrapper\u001b[39;00m\n\u001b[32m    672\u001b[39m \u001b[38;5;28;01mif\u001b[39;00m spec_.order_enforce:\n",
      "\u001b[36mFile \u001b[39m\u001b[32m~/micromamba/envs/hack/lib/python3.12/site-packages/gym/wrappers/env_checker.py:23\u001b[39m, in \u001b[36mPassiveEnvChecker.__init__\u001b[39m\u001b[34m(self, env)\u001b[39m\n\u001b[32m     18\u001b[39m \u001b[38;5;28msuper\u001b[39m().\u001b[34m__init__\u001b[39m(env)\n\u001b[32m     20\u001b[39m \u001b[38;5;28;01massert\u001b[39;00m \u001b[38;5;28mhasattr\u001b[39m(\n\u001b[32m     21\u001b[39m     env, \u001b[33m\"\u001b[39m\u001b[33maction_space\u001b[39m\u001b[33m\"\u001b[39m\n\u001b[32m     22\u001b[39m ), \u001b[33m\"\u001b[39m\u001b[33mThe environment must specify an action space. https://www.gymlibrary.dev/content/environment_creation/\u001b[39m\u001b[33m\"\u001b[39m\n\u001b[32m---> \u001b[39m\u001b[32m23\u001b[39m \u001b[43mcheck_action_space\u001b[49m\u001b[43m(\u001b[49m\u001b[43menv\u001b[49m\u001b[43m.\u001b[49m\u001b[43maction_space\u001b[49m\u001b[43m)\u001b[49m\n\u001b[32m     24\u001b[39m \u001b[38;5;28;01massert\u001b[39;00m \u001b[38;5;28mhasattr\u001b[39m(\n\u001b[32m     25\u001b[39m     env, \u001b[33m\"\u001b[39m\u001b[33mobservation_space\u001b[39m\u001b[33m\"\u001b[39m\n\u001b[32m     26\u001b[39m ), \u001b[33m\"\u001b[39m\u001b[33mThe environment must specify an observation space. https://www.gymlibrary.dev/content/environment_creation/\u001b[39m\u001b[33m\"\u001b[39m\n\u001b[32m     27\u001b[39m check_observation_space(env.observation_space)\n",
      "\u001b[36mFile \u001b[39m\u001b[32m~/micromamba/envs/hack/lib/python3.12/site-packages/gym/utils/passive_env_checker.py:74\u001b[39m, in \u001b[36mcheck_space\u001b[39m\u001b[34m(space, space_type, check_box_space_fn)\u001b[39m\n\u001b[32m     72\u001b[39m \u001b[38;5;250m\u001b[39m\u001b[33;03m\"\"\"A passive check of the environment action space that should not affect the environment.\"\"\"\u001b[39;00m\n\u001b[32m     73\u001b[39m \u001b[38;5;28;01mif\u001b[39;00m \u001b[38;5;129;01mnot\u001b[39;00m \u001b[38;5;28misinstance\u001b[39m(space, spaces.Space):\n\u001b[32m---> \u001b[39m\u001b[32m74\u001b[39m     \u001b[38;5;28;01mraise\u001b[39;00m \u001b[38;5;167;01mAssertionError\u001b[39;00m(\n\u001b[32m     75\u001b[39m         \u001b[33mf\u001b[39m\u001b[33m\"\u001b[39m\u001b[38;5;132;01m{\u001b[39;00mspace_type\u001b[38;5;132;01m}\u001b[39;00m\u001b[33m space does not inherit from `gym.spaces.Space`, actual type: \u001b[39m\u001b[38;5;132;01m{\u001b[39;00m\u001b[38;5;28mtype\u001b[39m(space)\u001b[38;5;132;01m}\u001b[39;00m\u001b[33m\"\u001b[39m\n\u001b[32m     76\u001b[39m     )\n\u001b[32m     78\u001b[39m \u001b[38;5;28;01melif\u001b[39;00m \u001b[38;5;28misinstance\u001b[39m(space, spaces.Box):\n\u001b[32m     79\u001b[39m     check_box_space_fn(space)\n",
      "\u001b[31mAssertionError\u001b[39m: action space does not inherit from `gym.spaces.Space`, actual type: <class 'gymnasium.spaces.discrete.Discrete'>"
     ]
    }
   ],
   "source": [
    "import gym\n",
    "from stable_baselines3 import DQN\n",
    "from env import MazeEnv\n",
    "\n",
    "# Enregistrer l'environnement personnalisé avec Gym\n",
    "gym.envs.registration.register(\n",
    "    id='MazeEnv-v0',\n",
    "    entry_point='env:MazeEnv',  # Format correct: module:classe\n",
    ")\n",
    "\n",
    "# Charger ton environnement personnalisé\n",
    "env = gym.make('MazeEnv-v0')\n",
    "\n",
    "# Utilisation d'un agent Stable-Baselines3, ici DQN\n",
    "model = DQN('MlpPolicy', env, verbose=1)\n",
    "model.learn(total_timesteps=10000)\n",
    "\n",
    "# Sauvegarder le modèle\n",
    "model.save(\"dqn_custom_env\")\n",
    "\n",
    "# Utilisation du modèle pour effectuer des prédictions\n",
    "obs = env.reset()\n",
    "for _ in range(1000):\n",
    "    action = model.predict(obs)[0]\n",
    "    obs, reward, done, info = env.step(action)\n",
    "    if done:\n",
    "        obs = env.reset()"
   ]
  }
 ],
 "metadata": {
  "kernelspec": {
   "display_name": "Python 3",
   "language": "python",
   "name": "python3"
  },
  "language_info": {
   "codemirror_mode": {
    "name": "ipython",
    "version": 3
   },
   "file_extension": ".py",
   "mimetype": "text/x-python",
   "name": "python",
   "nbconvert_exporter": "python",
   "pygments_lexer": "ipython3",
   "version": "3.12.9"
  }
 },
 "nbformat": 4,
 "nbformat_minor": 2
}
