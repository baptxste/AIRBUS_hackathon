{
 "cells": [
  {
   "cell_type": "code",
   "execution_count": 1,
   "metadata": {},
   "outputs": [],
   "source": [
    "import torch\n",
    "import torch.nn as nn"
   ]
  },
  {
   "cell_type": "code",
   "execution_count": 10,
   "metadata": {},
   "outputs": [],
   "source": [
    "class DQN(nn.Module):\n",
    "    \"\"\"\n",
    "    Deep Q Network to model the Q function.\n",
    "    \"\"\"\n",
    "    def __init__(self, input_dim, output_dim):\n",
    "        super(DQN, self).__init__()\n",
    "        self.fc1 = nn.Linear(input_dim, 128)\n",
    "        self.fc2 = nn.Linear(128, 128)\n",
    "        self.fc3 = nn.Linear(128, output_dim)\n",
    "\n",
    "    def forward(self, x):\n",
    "        x = torch.relu(self.fc1(x))\n",
    "        x = torch.relu(self.fc2(x))\n",
    "        x = self.fc3(x)\n",
    "        #assume 4*7 in dim output\n",
    "        x = x.view(-1,4,7)\n",
    "        return x"
   ]
  },
  {
   "cell_type": "code",
   "execution_count": 4,
   "metadata": {},
   "outputs": [
    {
     "name": "stdout",
     "output_type": "stream",
     "text": [
      "Collecting torchsummary\n",
      "  Using cached torchsummary-1.5.1-py3-none-any.whl.metadata (296 bytes)\n",
      "Using cached torchsummary-1.5.1-py3-none-any.whl (2.8 kB)\n",
      "Installing collected packages: torchsummary\n",
      "Successfully installed torchsummary-1.5.1\n",
      "Note: you may need to restart the kernel to use updated packages.\n"
     ]
    },
    {
     "name": "stderr",
     "output_type": "stream",
     "text": [
      "\n",
      "[notice] A new release of pip is available: 23.3.2 -> 25.0.1\n",
      "[notice] To update, run: C:\\Users\\etien\\AppData\\Local\\Microsoft\\WindowsApps\\PythonSoftwareFoundation.Python.3.10_qbz5n2kfra8p0\\python.exe -m pip install --upgrade pip\n"
     ]
    }
   ],
   "source": [
    "%pip install torchsummary"
   ]
  },
  {
   "cell_type": "code",
   "execution_count": 11,
   "metadata": {},
   "outputs": [
    {
     "name": "stdout",
     "output_type": "stream",
     "text": [
      "----------------------------------------------------------------\n",
      "        Layer (type)               Output Shape         Param #\n",
      "================================================================\n",
      "            Linear-1              [-1, 64, 128]          21,632\n",
      "            Linear-2              [-1, 64, 128]          16,512\n",
      "            Linear-3               [-1, 64, 28]           3,612\n",
      "================================================================\n",
      "Total params: 41,756\n",
      "Trainable params: 41,756\n",
      "Non-trainable params: 0\n",
      "----------------------------------------------------------------\n",
      "Input size (MB): 0.04\n",
      "Forward/backward pass size (MB): 0.14\n",
      "Params size (MB): 0.16\n",
      "Estimated Total Size (MB): 0.34\n",
      "----------------------------------------------------------------\n"
     ]
    }
   ],
   "source": [
    "import numpy as np\n",
    "from torchsummary import summary\n",
    "model = DQN(4*42,7*4)\n",
    "summary(model, (64, 4*42))"
   ]
  },
  {
   "cell_type": "code",
   "execution_count": 12,
   "metadata": {},
   "outputs": [
    {
     "name": "stdout",
     "output_type": "stream",
     "text": [
      "torch.Size([64, 4, 7])\n"
     ]
    }
   ],
   "source": [
    "input = torch.randn(64, 4*42)\n",
    "output = model(input).view(-1, 4, 7)\n",
    "\n",
    "print(output.size())"
   ]
  },
  {
   "cell_type": "code",
   "execution_count": 14,
   "metadata": {},
   "outputs": [
    {
     "name": "stdout",
     "output_type": "stream",
     "text": [
      "torch.Size([64, 4, 7])\n"
     ]
    },
    {
     "data": {
      "text/plain": [
       "tensor([[6, 0, 3, 4],\n",
       "        [1, 0, 1, 6],\n",
       "        [1, 0, 2, 6],\n",
       "        [6, 0, 3, 0],\n",
       "        [1, 0, 3, 0],\n",
       "        [1, 1, 3, 4],\n",
       "        [1, 0, 3, 4],\n",
       "        [1, 4, 2, 0],\n",
       "        [6, 5, 1, 0],\n",
       "        [6, 0, 1, 4],\n",
       "        [4, 5, 1, 1],\n",
       "        [1, 4, 2, 0],\n",
       "        [1, 4, 1, 4],\n",
       "        [1, 4, 3, 4],\n",
       "        [3, 0, 2, 1],\n",
       "        [1, 4, 3, 4],\n",
       "        [1, 2, 3, 2],\n",
       "        [2, 0, 2, 6],\n",
       "        [4, 0, 3, 2],\n",
       "        [1, 4, 3, 2],\n",
       "        [3, 0, 2, 6],\n",
       "        [1, 4, 3, 1],\n",
       "        [1, 5, 1, 0],\n",
       "        [1, 2, 2, 4],\n",
       "        [1, 0, 2, 4],\n",
       "        [3, 0, 2, 1],\n",
       "        [1, 2, 2, 4],\n",
       "        [1, 0, 3, 4],\n",
       "        [1, 2, 3, 0],\n",
       "        [6, 0, 3, 1],\n",
       "        [1, 0, 3, 1],\n",
       "        [1, 0, 3, 4],\n",
       "        [1, 4, 3, 4],\n",
       "        [1, 4, 3, 4],\n",
       "        [6, 0, 3, 0],\n",
       "        [1, 0, 2, 1],\n",
       "        [6, 1, 3, 0],\n",
       "        [3, 0, 2, 0],\n",
       "        [1, 0, 1, 1],\n",
       "        [1, 5, 3, 3],\n",
       "        [6, 4, 1, 4],\n",
       "        [3, 2, 3, 0],\n",
       "        [6, 0, 3, 4],\n",
       "        [2, 4, 3, 4],\n",
       "        [1, 4, 3, 0],\n",
       "        [1, 0, 3, 0],\n",
       "        [1, 0, 2, 0],\n",
       "        [1, 0, 3, 4],\n",
       "        [1, 0, 2, 1],\n",
       "        [1, 0, 3, 0],\n",
       "        [1, 4, 1, 4],\n",
       "        [3, 1, 1, 0],\n",
       "        [1, 4, 3, 4],\n",
       "        [1, 5, 1, 2],\n",
       "        [1, 0, 3, 1],\n",
       "        [6, 4, 1, 4],\n",
       "        [4, 0, 1, 4],\n",
       "        [2, 4, 2, 2],\n",
       "        [1, 2, 3, 6],\n",
       "        [1, 0, 3, 4],\n",
       "        [1, 0, 3, 4],\n",
       "        [4, 1, 3, 1],\n",
       "        [4, 2, 1, 0],\n",
       "        [2, 0, 3, 0]])"
      ]
     },
     "execution_count": 14,
     "metadata": {},
     "output_type": "execute_result"
    }
   ],
   "source": [
    "q_values = torch.softmax(model(input),dim=-1)\n",
    "print(q_values.size())\n",
    "actions = q_values.argmax(dim=-1)\n",
    "actions"
   ]
  },
  {
   "cell_type": "code",
   "execution_count": null,
   "metadata": {},
   "outputs": [],
   "source": []
  }
 ],
 "metadata": {
  "kernelspec": {
   "display_name": "Python 3",
   "language": "python",
   "name": "python3"
  },
  "language_info": {
   "codemirror_mode": {
    "name": "ipython",
    "version": 3
   },
   "file_extension": ".py",
   "mimetype": "text/x-python",
   "name": "python",
   "nbconvert_exporter": "python",
   "pygments_lexer": "ipython3",
   "version": "3.10.11"
  }
 },
 "nbformat": 4,
 "nbformat_minor": 2
}
